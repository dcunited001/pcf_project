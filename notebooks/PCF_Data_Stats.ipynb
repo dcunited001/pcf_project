{
 "cells": [
  {
   "cell_type": "code",
   "execution_count": 2,
   "metadata": {
    "collapsed": false
   },
   "outputs": [],
   "source": [
    "from IPython.display import Image\n",
    "import matplotlib.pyplot as plt\n",
    "import os.path\n",
    "from nb_helpers import fix_pypath\n",
    "fix_pypath()\n",
    "\n",
    "from apoptosiscv.pcf_data_set import *\n",
    "paths = config_paths(os.path.join(os.getcwd(), '..'))\n"
   ]
  },
  {
   "cell_type": "code",
   "execution_count": 8,
   "metadata": {
    "collapsed": false
   },
   "outputs": [
    {
     "name": "stdout",
     "output_type": "stream",
     "text": [
      "[{'id': '10500', 'fga': '0.19'}, {'id': '10549', 'fga': '0.58'}, {'id': '11169', 'fga': '0.05'}]\n"
     ]
    }
   ],
   "source": [
    "training_csv = os.path.join(paths['data'], 'training-orig.csv')\n",
    "training_samples = read_training_samples(training_csv)\n",
    "\n",
    "print(training_samples[0:3])"
   ]
  },
  {
   "cell_type": "code",
   "execution_count": 9,
   "metadata": {
    "collapsed": false
   },
   "outputs": [],
   "source": [
    "import numpy as np\n",
    "from scipy.interpolate import UnivariateSpline\n",
    "\n",
    "fga_data = map(lambda x: float(x['fga']), training_samples)\n",
    "fga_count, fga_bin = np.histogram(fga_data, bins=30)#, range=[0,1]) #, density=True)"
   ]
  },
  {
   "cell_type": "code",
   "execution_count": 10,
   "metadata": {
    "collapsed": false
   },
   "outputs": [
    {
     "data": {
      "image/png": "[encoded data removed]",
      "text/plain": [
       "<matplotlib.figure.Figure at 0x7f3b32309c90>"
      ]
     },
     "metadata": {},
     "output_type": "display_data"
    }
   ],
   "source": [
    "%matplotlib inline\n",
    "\n",
    "#histogram seems to be distorting my data (wrong format) soo plt.plot\n",
    "plt.plot(fga_bin[0:-1], fga_count)#, range=[0,1])\n",
    "plt.show()\n",
    "\n",
    "# ... uhh not real sure why the y-axis is so off on this histogram..."
   ]
  },
  {
   "cell_type": "code",
   "execution_count": 11,
   "metadata": {
    "collapsed": false
   },
   "outputs": [],
   "source": [
    "fga_bin = fga_bin[:-1] + (fga_bin[1] - fga_bin[0])/2\n",
    "f = UnivariateSpline(fga_bin, fga_count, s=10)\n",
    "fsmooth = UnivariateSpline(fga_bin, fga_count, s=100)"
   ]
  },
  {
   "cell_type": "code",
   "execution_count": 12,
   "metadata": {
    "collapsed": false
   },
   "outputs": [
    {
     "data": {
      "image/png": "[encoded data removed]",
      "text/plain": [
       "<matplotlib.figure.Figure at 0x7f3b2d947350>"
      ]
     },
     "metadata": {},
     "output_type": "display_data"
    }
   ],
   "source": [
    "%matplotlib inline\n",
    "\n",
    "plt.plot(fga_bin, f(fga_bin))\n",
    "plt.plot(fga_bin, fsmooth(fga_bin))\n",
    "plt.show()"
   ]
  },
  {
   "cell_type": "code",
   "execution_count": 14,
   "metadata": {
    "collapsed": false
   },
   "outputs": [
    {
     "data": {
      "text/plain": [
       "array([  1.66569436e+01,   2.16386827e+01,   2.15285732e+01,\n",
       "         1.56975293e+01,   1.02916262e+01,   9.75794044e+00,\n",
       "         7.82612561e+00,   5.50034629e+00,   3.64798323e+00,\n",
       "         2.35189820e+00,   1.54739315e+00,   1.13288007e+00,\n",
       "         1.00677092e+00,   1.06747768e+00,   1.21341235e+00,\n",
       "         1.34298690e+00,   1.37523240e+00,   1.31165626e+00,\n",
       "         1.17438500e+00,   9.85545109e-01,   7.67263103e-01,\n",
       "         5.41665483e-01,   3.30878756e-01,   1.57029427e-01,\n",
       "         4.22440002e-02,   8.64898203e-03,   7.83708773e-02,\n",
       "         2.73536191e-01,   6.16271429e-01,   1.12870310e+00])"
      ]
     },
     "execution_count": 14,
     "metadata": {},
     "output_type": "execute_result"
    }
   ],
   "source": [
    "num\n"
   ]
  },
  {
   "cell_type": "code",
   "execution_count": null,
   "metadata": {
    "collapsed": false
   },
   "outputs": [],
   "source": [
    "\n"
   ]
  },
  {
   "cell_type": "code",
   "execution_count": 9,
   "metadata": {
    "collapsed": true
   },
   "outputs": [],
   "source": [
    "def getAnswerURL():\n",
    "    return \"https://drive.google.com/file/d/0BzFxYZBEQCMNaHM0MGFPdS1UX1E/view?usp=sharing\"\n",
    "\n"
   ]
  },
  {
   "cell_type": "code",
   "execution_count": null,
   "metadata": {
    "collapsed": true
   },
   "outputs": [],
   "source": []
  }
 ],
 "metadata": {
  "kernelspec": {
   "display_name": "Python 2",
   "language": "python",
   "name": "python2"
  },
  "language_info": {
   "codemirror_mode": {
    "name": "ipython",
    "version": 2
   },
   "file_extension": ".py",
   "mimetype": "text/x-python",
   "name": "python",
   "nbconvert_exporter": "python",
   "pygments_lexer": "ipython2",
   "version": "2.7.6"
  }
 },
 "nbformat": 4,
 "nbformat_minor": 0
}
