{
 "cells": [
  {
   "cell_type": "code",
   "execution_count": 1,
   "metadata": {
    "collapsed": false
   },
   "outputs": [],
   "source": [
    "from IPython.display import Image\n",
    "import matplotlib.pyplot as plt\n",
    "import os.path\n",
    "from nb_helpers import fix_pypath\n",
    "fix_pypath()\n",
    "\n",
    "from apoptosiscv.pcf_data_set import *\n",
    "paths = config_paths(os.path.join(os.getcwd(), '..'))\n"
   ]
  },
  {
   "cell_type": "code",
   "execution_count": 7,
   "metadata": {
    "collapsed": false
   },
   "outputs": [
    {
     "name": "stdout",
     "output_type": "stream",
     "text": [
      "[{'id': '10500', 'fga': '0.19'}, {'id': '10549', 'fga': '0.58'}, {'id': '11169', 'fga': '0.05'}]\n"
     ]
    }
   ],
   "source": [
    "training_csv = os.path.join(paths['data'], 'training.csv')\n",
    "training_samples = read_training_samples(training_csv)\n",
    "\n",
    "print(training_samples[0:3])"
   ]
  },
  {
   "cell_type": "code",
   "execution_count": null,
   "metadata": {
    "collapsed": true
   },
   "outputs": [],
   "source": []
  }
 ],
 "metadata": {
  "kernelspec": {
   "display_name": "Python 2",
   "language": "python",
   "name": "python2"
  },
  "language_info": {
   "codemirror_mode": {
    "name": "ipython",
    "version": 2
   },
   "file_extension": ".py",
   "mimetype": "text/x-python",
   "name": "python",
   "nbconvert_exporter": "python",
   "pygments_lexer": "ipython2",
   "version": "2.7.6"
  }
 },
 "nbformat": 4,
 "nbformat_minor": 0
}
