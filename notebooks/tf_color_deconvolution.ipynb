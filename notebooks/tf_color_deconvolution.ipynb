{
 "cells": [
  {
   "cell_type": "code",
   "execution_count": 11,
   "metadata": {
    "collapsed": true
   },
   "outputs": [],
   "source": [
    "from IPython.display import Image\n",
    "import matplotlib.pyplot as plt\n",
    "import os.path\n",
    "import tensorflow as tf\n",
    "import csv"
   ]
  },
  {
   "cell_type": "code",
   "execution_count": 3,
   "metadata": {
    "collapsed": false
   },
   "outputs": [],
   "source": [
    "HOMEDIR = os.path.dirname(os.path.realpath('.'))\n",
    "DATADIR =  os.path.join(HOMEDIR, 'data')\n",
    "TFDATA = os.path.join(HOMEDIR, 'tfdata')\n",
    "DXPATH = os.path.join('img/dx')\n",
    "TSPATH = os.path.join('img/ts')\n",
    "\n",
    "if not os.path.exists(DATADIR):\n",
    "  os.mkdir(DATADIR)\n",
    "if not os.path.exists(TFDATA):\n",
    "  os.mkdir(TFDATA)"
   ]
  },
  {
   "cell_type": "code",
   "execution_count": null,
   "metadata": {
    "collapsed": true
   },
   "outputs": [],
   "source": [
    "def read_images(directory):\n",
    "    # return parsed list of images, with image attrs assigned\n",
    "    return []\n",
    "\n",
    "def read_training_samples(filename):\n",
    "    f = open(filename, 'f')\n",
    "\n",
    "# sort out training samples \n",
    "\n",
    "def parse_training_sample(csv_row):\n",
    "    return {'id': csv_row[0], ''}"
   ]
  },
  {
   "cell_type": "code",
   "execution_count": 3,
   "metadata": {
    "collapsed": true
   },
   "outputs": [],
   "source": [
    "TRAINING_SIZE = 131\n",
    "TESTING_SIZE = 140\n",
    "\n",
    "training_samples = []\n",
    "\n",
    "# image = {'id','sample_id', 'path', 'width', 'height'}\n",
    "# sample = {'id', 'dxpath', 'tspath', 'fga'}\n",
    "\n",
    "#read training id's and scores\n",
    "# - add field for filenames\n",
    "\n",
    "#read in image names from folders\n",
    "# - assign the training filenames to the training data\n",
    "# - sort out the testing id's & scores\n",
    "\n",
    "#TODO: refactor training set loading files and import"
   ]
  },
  {
   "cell_type": "code",
   "execution_count": 4,
   "metadata": {
    "collapsed": true
   },
   "outputs": [],
   "source": [
    "BATCH_SIZE = 1\n",
    "SEED = 42"
   ]
  },
  {
   "cell_type": "code",
   "execution_count": null,
   "metadata": {
    "collapsed": false
   },
   "outputs": [],
   "source": []
  },
  {
   "cell_type": "code",
   "execution_count": null,
   "metadata": {
    "collapsed": true
   },
   "outputs": [],
   "source": []
  }
 ],
 "metadata": {
  "kernelspec": {
   "display_name": "Python 2",
   "language": "python",
   "name": "python2"
  },
  "language_info": {
   "codemirror_mode": {
    "name": "ipython",
    "version": 2
   },
   "file_extension": ".py",
   "mimetype": "text/x-python",
   "name": "python",
   "nbconvert_exporter": "python",
   "pygments_lexer": "ipython2",
   "version": "2.7.6"
  }
 },
 "nbformat": 4,
 "nbformat_minor": 0
}
