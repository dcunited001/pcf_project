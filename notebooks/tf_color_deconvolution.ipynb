{
 "cells": [
  {
   "cell_type": "code",
   "execution_count": 1,
   "metadata": {
    "collapsed": false
   },
   "outputs": [],
   "source": [
    "from IPython.display import Image\n",
    "import matplotlib.pyplot as plt\n",
    "import os.path\n",
    "import tensorflow as tf\n",
    "import csv\n",
    "from nb_helpers import fix_pypath\n",
    "fix_pypath()\n",
    "\n",
    "from apoptosiscv.pcf_data_set import *\n",
    "paths = config_paths(os.path.join(os.getcwd(), '..'))\n"
   ]
  },
  {
   "cell_type": "code",
   "execution_count": 2,
   "metadata": {
    "collapsed": false
   },
   "outputs": [],
   "source": [
    "training_csv = os.path.join(paths['data'], 'training.csv')\n",
    "training_samples = read_training_samples(training_csv)"
   ]
  },
  {
   "cell_type": "code",
   "execution_count": 25,
   "metadata": {
    "collapsed": false
   },
   "outputs": [
    {
     "name": "stdout",
     "output_type": "stream",
     "text": [
      "/home/dc/dev/python/pcf_project/notebooks/../img/dx/13553-DX.png\n"
     ]
    },
    {
     "data": {
      "text/plain": [
       "<tf.Tensor 'DecodePng_20:0' shape=(?, ?, 3) dtype=uint8>"
      ]
     },
     "execution_count": 25,
     "metadata": {},
     "output_type": "execute_result"
    }
   ],
   "source": [
    "pngs = read_image_metadata('dx',paths['dx'])\n",
    "# p = tf.image.decode_png(os.path.join(paths['dx'], pngs[1]), channels=3)\n",
    "p = tf.image.decode_png('/home/dc/Downloads/logo-64x64.png', channels=3)\n",
    "\n",
    "# hmmm tensor from png image is null\n",
    "# - tensorflow also doesn't provide info to metadata\n",
    "# - maybe this is bc it reads that at the same time as image data\n",
    "\n",
    "v = tf.Variable('x')\n",
    "print(os.path.join(paths['dx'], pngs[0]))\n",
    "p.get_shape()\n",
    "p"
   ]
  },
  {
   "cell_type": "code",
   "execution_count": 17,
   "metadata": {
    "collapsed": true
   },
   "outputs": [],
   "source": [
    "TRAINING_SIZE = 131\n",
    "TESTING_SIZE = 140\n",
    "\n",
    "training_samples = []\n",
    "\n",
    "# image = {'id','sample_id', 'path', 'width', 'height'}\n",
    "# sample = {'id', 'dxpath', 'tspath', 'fga'}\n",
    "\n",
    "#read training id's and scores\n",
    "# - add field for filenames\n",
    "\n",
    "#read in image names from folders\n",
    "# - assign the training filenames to the training data\n",
    "# - sort out the testing id's & scores\n",
    "\n",
    "#TODO: refactor training set loading files and import"
   ]
  },
  {
   "cell_type": "code",
   "execution_count": null,
   "metadata": {
    "collapsed": true
   },
   "outputs": [],
   "source": [
    "BATCH_SIZE = 1\n",
    "SEED = 42"
   ]
  },
  {
   "cell_type": "code",
   "execution_count": null,
   "metadata": {
    "collapsed": false
   },
   "outputs": [],
   "source": []
  },
  {
   "cell_type": "code",
   "execution_count": null,
   "metadata": {
    "collapsed": true
   },
   "outputs": [],
   "source": []
  }
 ],
 "metadata": {
  "kernelspec": {
   "display_name": "Python 2",
   "language": "python",
   "name": "python2"
  },
  "language_info": {
   "codemirror_mode": {
    "name": "ipython",
    "version": 2
   },
   "file_extension": ".py",
   "mimetype": "text/x-python",
   "name": "python",
   "nbconvert_exporter": "python",
   "pygments_lexer": "ipython2",
   "version": "2.7.6"
  }
 },
 "nbformat": 4,
 "nbformat_minor": 0
}
