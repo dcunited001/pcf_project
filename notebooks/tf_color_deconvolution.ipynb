{
 "cells": [
  {
   "cell_type": "code",
   "execution_count": 1,
   "metadata": {
    "collapsed": false
   },
   "outputs": [],
   "source": [
    "from IPython.display import Image\n",
    "import matplotlib.pyplot as plt\n",
    "import os.path\n",
    "import tensorflow as tf\n",
    "import csv\n",
    "import cv2\n",
    "from nb_helpers import fix_pypath\n",
    "fix_pypath()\n",
    "\n",
    "from apoptosiscv.pcf_data_set import *\n",
    "paths = config_paths(os.path.join(os.getcwd(), '..'))\n"
   ]
  },
  {
   "cell_type": "code",
   "execution_count": 6,
   "metadata": {
    "collapsed": false
   },
   "outputs": [],
   "source": [
    "training_csv = os.path.join(paths['data'], 'training-orig.csv')\n",
    "training_samples = read_training_samples(training_csv)"
   ]
  },
  {
   "cell_type": "code",
   "execution_count": 3,
   "metadata": {
    "collapsed": false
   },
   "outputs": [
    {
     "name": "stdout",
     "output_type": "stream",
     "text": [
      "{'path': '/home/dc/dev/python/pcf_project/notebooks/../img/dx/13553-DX.png', 'id': '13553', 'file': '13553-DX.png'}\n"
     ]
    }
   ],
   "source": [
    "import png\n",
    "pngs = read_image_metadata('dx',paths['dx'])\n",
    "\n",
    "print(pngs[0])\n",
    "\n",
    "# p = tf.image.decode_png('/home/dc/Downloads/logo-64x64.png', channels=3)\n",
    "# p = tf.image.decode_png(os.path.join(paths['dx'], pngs[1]), channels=3)\n",
    "\n",
    "# img1 = Image(filename=paths['dx'], )\n",
    "#img1 = cv2.imread(os.path.join(paths['dx'], pngs[1]))\n",
    "\n",
    "# hmmm tensor from png image is null\n",
    "# - tensorflow also doesn't provide info to metadata\n",
    "# - maybe this is bc it reads that at the same time as image data\n",
    "\n",
    "# v = tf.Variable('x')\n",
    "# print(os.path.join(paths['dx'], pngs[0]))\n",
    "# p.get_shape()\n"
   ]
  },
  {
   "cell_type": "code",
   "execution_count": 11,
   "metadata": {
    "collapsed": false
   },
   "outputs": [
    {
     "name": "stdout",
     "output_type": "stream",
     "text": [
      "13553\n",
      "22731\n",
      "68613\n",
      "51991\n",
      "66168\n",
      "33048\n",
      "61941\n",
      "62966\n",
      "17447\n",
      "50489\n",
      "52998\n",
      "45187\n",
      "62610\n",
      "20356\n",
      "64736\n",
      "15334\n",
      "45510\n",
      "49549\n",
      "35528\n",
      "85242\n",
      "17988\n",
      "42160\n",
      "75696\n",
      "39529\n",
      "80014\n",
      "59039\n",
      "11229\n",
      "50512\n",
      "88352\n",
      "61093\n",
      "66343\n",
      "28213\n",
      "86432\n",
      "18936\n",
      "41179\n",
      "67236\n",
      "95242\n",
      "95396\n",
      "92120\n",
      "20192\n",
      "17080\n",
      "76031\n",
      "78693\n",
      "25224\n",
      "92343\n",
      "84360\n",
      "58016\n",
      "76268\n",
      "49252\n",
      "39334\n",
      "17620\n",
      "17517\n",
      "20764\n",
      "98202\n",
      "91490\n",
      "23071\n",
      "50958\n",
      "20318\n",
      "27631\n",
      "65130\n",
      "93415\n",
      "22657\n",
      "37604\n",
      "75615\n",
      "86940\n",
      "23683\n",
      "91039\n",
      "98867\n",
      "16105\n",
      "92215\n",
      "89314\n",
      "54030\n",
      "33663\n",
      "20833\n",
      "70092\n",
      "73479\n",
      "16670\n",
      "75394\n",
      "13685\n",
      "33227\n",
      "60815\n",
      "61513\n",
      "53659\n",
      "62961\n",
      "77875\n",
      "19119\n",
      "22827\n",
      "27385\n",
      "83740\n",
      "40259\n",
      "78439\n",
      "51288\n",
      "51234\n",
      "44550\n",
      "42125\n",
      "23947\n",
      "80399\n",
      "13566\n",
      "81791\n",
      "86565\n",
      "57423\n",
      "74921\n",
      "20654\n",
      "35990\n",
      "21324\n",
      "47486\n",
      "46274\n",
      "23983\n",
      "87094\n",
      "12796\n",
      "82867\n",
      "16163\n",
      "12059\n",
      "48648\n",
      "70300\n",
      "82315\n",
      "77801\n",
      "51182\n",
      "72587\n",
      "32887\n",
      "93450\n",
      "22727\n",
      "14532\n",
      "49316\n",
      "73063\n",
      "88772\n",
      "89043\n",
      "43477\n",
      "47821\n",
      "22367\n",
      "35164\n",
      "38578\n",
      "70189\n",
      "22096\n",
      "24168\n",
      "37683\n",
      "38066\n",
      "69106\n",
      "11996\n",
      "56968\n"
     ]
    }
   ],
   "source": [
    "# print(training_samples)\n",
    "training_ids = map(lambda x: x['id'], training_samples)\n",
    "# print(training_ids[0:3])\n",
    "test_ids = filter(lambda x: x not in training_ids, map(lambda x: x['id'], pngs))\n",
    "# test_cases = \n",
    "\n",
    "for id in test_ids: print(id)\n",
    "\n",
    "\n",
    "\n",
    "TRAINING_SIZE = 131\n",
    "TESTING_SIZE = 140\n",
    "\n",
    "# training_samples = []\n",
    "\n",
    "# image = {'id','sample_id', 'path', 'width', 'height'}\n",
    "# sample = {'id', 'dxpath', 'tspath', 'fga'}\n",
    "\n",
    "#read training id's and scores\n",
    "# - add field for filenames\n",
    "\n",
    "#read in image names from folders\n",
    "# - assign the training filenames to the training data\n",
    "# - sort out the testing id's & scores\n",
    "\n",
    "#TODO: refactor training set loading files and import"
   ]
  },
  {
   "cell_type": "code",
   "execution_count": null,
   "metadata": {
    "collapsed": true
   },
   "outputs": [],
   "source": [
    "BATCH_SIZE = 1\n",
    "SEED = 42"
   ]
  },
  {
   "cell_type": "code",
   "execution_count": null,
   "metadata": {
    "collapsed": false
   },
   "outputs": [],
   "source": []
  },
  {
   "cell_type": "code",
   "execution_count": 12,
   "metadata": {
    "collapsed": true
   },
   "outputs": [],
   "source": [
    "x = 558194.25 * 100000 "
   ]
  },
  {
   "cell_type": "code",
   "execution_count": 13,
   "metadata": {
    "collapsed": true
   },
   "outputs": [],
   "source": [
    "y = 558194.25 * 1000"
   ]
  },
  {
   "cell_type": "code",
   "execution_count": 14,
   "metadata": {
    "collapsed": true
   },
   "outputs": [],
   "source": [
    "z = 1000000000 - y"
   ]
  },
  {
   "cell_type": "code",
   "execution_count": 15,
   "metadata": {
    "collapsed": false
   },
   "outputs": [
    {
     "data": {
      "text/plain": [
       "441805750.0"
      ]
     },
     "execution_count": 15,
     "metadata": {},
     "output_type": "execute_result"
    }
   ],
   "source": [
    "z\n"
   ]
  },
  {
   "cell_type": "code",
   "execution_count": 26,
   "metadata": {
    "collapsed": false
   },
   "outputs": [
    {
     "data": {
      "text/plain": [
       "4418.0575"
      ]
     },
     "execution_count": 26,
     "metadata": {},
     "output_type": "execute_result"
    }
   ],
   "source": [
    "w = z/100000\n",
    "w"
   ]
  },
  {
   "cell_type": "code",
   "execution_count": 27,
   "metadata": {
    "collapsed": false
   },
   "outputs": [],
   "source": [
    "import math"
   ]
  },
  {
   "cell_type": "code",
   "execution_count": 31,
   "metadata": {
    "collapsed": false
   },
   "outputs": [],
   "source": [
    "v = math.sqrt(w * 140)"
   ]
  },
  {
   "cell_type": "code",
   "execution_count": 30,
   "metadata": {
    "collapsed": false
   },
   "outputs": [
    {
     "data": {
      "text/plain": [
       "786.4655427925625"
      ]
     },
     "execution_count": 30,
     "metadata": {},
     "output_type": "execute_result"
    }
   ],
   "source": [
    "v\n"
   ]
  },
  {
   "cell_type": "code",
   "execution_count": 34,
   "metadata": {
    "collapsed": false
   },
   "outputs": [
    {
     "name": "stdout",
     "output_type": "stream",
     "text": [
      "1.10808746238\n"
     ]
    }
   ],
   "source": [
    "a = 1000000000 / 558194.25\n",
    "b = a - 1000\n",
    "mse = b / 100000\n",
    "mse\n",
    "\n",
    "print(mse * 140)"
   ]
  },
  {
   "cell_type": "code",
   "execution_count": 35,
   "metadata": {
    "collapsed": false
   },
   "outputs": [
    {
     "data": {
      "text/plain": [
       "0.007914910445602047"
      ]
     },
     "execution_count": 35,
     "metadata": {},
     "output_type": "execute_result"
    }
   ],
   "source": [
    "mse"
   ]
  },
  {
   "cell_type": "code",
   "execution_count": null,
   "metadata": {
    "collapsed": true
   },
   "outputs": [],
   "source": []
  }
 ],
 "metadata": {
  "kernelspec": {
   "display_name": "Python 2",
   "language": "python",
   "name": "python2"
  },
  "language_info": {
   "codemirror_mode": {
    "name": "ipython",
    "version": 2
   },
   "file_extension": ".py",
   "mimetype": "text/x-python",
   "name": "python",
   "nbconvert_exporter": "python",
   "pygments_lexer": "ipython2",
   "version": "2.7.6"
  }
 },
 "nbformat": 4,
 "nbformat_minor": 0
}
