{
 "cells": [
  {
   "cell_type": "code",
   "execution_count": 4,
   "metadata": {
    "collapsed": true
   },
   "outputs": [],
   "source": [
    "from IPython.display import Image\n",
    "import os.path\n",
    "import tensorflow as tf\n",
    "\n",
    "HOMEDIR = os.path.dirname(os.path.realpath('.'))\n",
    "DATADIR =  os.path.join(HOMEDIR, 'data')\n",
    "TFDATA = os.path.join(HOMEDIR, 'data')\n",
    "DXPATH = os.path.join('img/dx')\n",
    "TSPATH = os.path.join('img/ts')\n",
    "\n",
    "os.path.\n",
    "\n",
    "if not os.path.exists(WORKDIR):\n",
    "  os.mkdir(WORKDIR)"
   ]
  },
  {
   "cell_type": "code",
   "execution_count": 3,
   "metadata": {
    "collapsed": true
   },
   "outputs": [],
   "source": [
    "TRAINING_SIZE = 131\n",
    "TESTING_SIZE = 140\n",
    "\n",
    "#read training id's and scores\n",
    "# - add field for filenames\n",
    "\n",
    "#read in image names from folders\n",
    "# - assign the training filenames to the training data\n",
    "# - sort out the testing id's & scores\n",
    "\n",
    "#TODO: refactor training set loading files and import"
   ]
  },
  {
   "cell_type": "code",
   "execution_count": null,
   "metadata": {
    "collapsed": true
   },
   "outputs": [],
   "source": [
    "BATCH_SIZE = 1\n",
    "SEED = 42"
   ]
  },
  {
   "cell_type": "code",
   "execution_count": null,
   "metadata": {
    "collapsed": true
   },
   "outputs": [],
   "source": []
  }
 ],
 "metadata": {
  "kernelspec": {
   "display_name": "Python 2",
   "language": "python",
   "name": "python2"
  },
  "language_info": {
   "codemirror_mode": {
    "name": "ipython",
    "version": 2
   },
   "file_extension": ".py",
   "mimetype": "text/x-python",
   "name": "python",
   "nbconvert_exporter": "python",
   "pygments_lexer": "ipython2",
   "version": "2.7.6"
  }
 },
 "nbformat": 4,
 "nbformat_minor": 0
}
