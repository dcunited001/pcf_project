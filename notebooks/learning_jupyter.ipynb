{
 "cells": [
  {
   "cell_type": "code",
   "execution_count": 2,
   "metadata": {
    "collapsed": true
   },
   "outputs": [],
   "source": [
    "from IPython.display import Image\n",
    "import matplotlib.pyplot as plt\n",
    "import os.path\n",
    "import urllib2"
   ]
  },
  {
   "cell_type": "code",
   "execution_count": 4,
   "metadata": {
    "collapsed": false
   },
   "outputs": [],
   "source": [
    "#trying to open remote image 😱😭 ...\n",
    "\n",
    "\n",
    "%matplotlib inline\n",
    "\n",
    "caturl = \"http://i.telegraph.co.uk/multimedia/archive/02830/cat_2830677b.jpg\"\n",
    "catimg = Image(urllib2.urlopen(caturl))\n",
    "\n",
    "\n",
    "# catimg.\n",
    "# plt.imshow\n",
    "# plt.imshow(catimg.thumbnail((64, 64), Image.ANTIALIAS))\n",
    "# plt.imshow(catimg.data)\n",
    "# catimg.data\n",
    "    \n",
    "# We'll show the image and its pixel value histogram side-by-side.\n",
    "# _, (ax1, ax2) = plt.subplots(1, 2)\n",
    "\n",
    "# To interpret the values as a 28x28 image, we need to reshape\n",
    "# the numpy array, which is one dimensional.\n",
    "# ax1.imshow(image.reshape(28, 28), cmap=plt.cm.Greys);\n",
    "\n",
    "# ax2.hist(image, bins=20, range=[0,255]);\n",
    "#from \n",
    "#print(\"![test](http://i.telegraph.co.uk/multimedia/archive/02830/cat_2830677b.jpg)\")\n"
   ]
  },
  {
   "cell_type": "code",
   "execution_count": null,
   "metadata": {
    "collapsed": true
   },
   "outputs": [],
   "source": []
  }
 ],
 "metadata": {
  "kernelspec": {
   "display_name": "Python 2",
   "language": "python",
   "name": "python2"
  },
  "language_info": {
   "codemirror_mode": {
    "name": "ipython",
    "version": 2
   },
   "file_extension": ".py",
   "mimetype": "text/x-python",
   "name": "python",
   "nbconvert_exporter": "python",
   "pygments_lexer": "ipython2",
   "version": "2.7.6"
  }
 },
 "nbformat": 4,
 "nbformat_minor": 0
}
