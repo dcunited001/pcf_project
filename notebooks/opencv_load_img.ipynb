{
 "cells": [
  {
   "cell_type": "code",
   "execution_count": 1,
   "metadata": {
    "collapsed": true
   },
   "outputs": [],
   "source": [
    "import cv2\n",
    "import os.path"
   ]
  },
  {
   "cell_type": "code",
   "execution_count": 7,
   "metadata": {
    "collapsed": true
   },
   "outputs": [],
   "source": [
    "HOME = os.path.dirname(os.path.realpath('.'))\n",
    "DXPATH = os.path.dirname(HOME + '/img/dx/')\n",
    "TSPATH = os.path.dirname(HOME + '/img/ds/')"
   ]
  },
  {
   "cell_type": "code",
   "execution_count": 4,
   "metadata": {
    "collapsed": true
   },
   "outputs": [],
   "source": [
    "def load_ds(id):\n",
    "    return cv2.imread(DXPATH + '/' + id + '-DX.png')\n",
    "\n",
    "def load_ts(id):\n",
    "    return cv2.imread(TSPATH + '/' + id + '-TS.png')\n",
    "\n",
    "\n",
    "# fix for linux versions of opencv\n",
    "# - https://stackoverflow.com/questions/6116564/destroywindow-does-not-close-window-on-mac-using-python-and-opencv\n",
    "def really_destroy_all_windows():\n",
    "    cv2.destroyAllWindows()\n",
    "    for i in range (1,5):\n",
    "        cv2.waitKey(1)\n",
    "        \n",
    "# ... i'm doing it wrong, lol.  i can output images to the notebook"
   ]
  },
  {
   "cell_type": "code",
   "execution_count": 8,
   "metadata": {
    "collapsed": true
   },
   "outputs": [],
   "source": [
    "img1 = load_ds('16163')\n",
    "# img1 = cv2.imread('/home/dc/Downloads/logo-64x64.png')\n",
    "win1 = cv2.namedWindow('16163', cv2.WINDOW_NORMAL)"
   ]
  },
  {
   "cell_type": "code",
   "execution_count": 9,
   "metadata": {
    "collapsed": false
   },
   "outputs": [],
   "source": [
    "cv2.imshow('16163', img1)\n",
    "#if cv2.waitKey(33) == ord('a'):\n",
    "#    cv2.destroyAllWindows()\n",
    "\n",
    "cv2.waitKey(0) # waits for any keypress (but doesn't work =/)\n",
    "really_destroy_all_windows()\n"
   ]
  },
  {
   "cell_type": "code",
   "execution_count": null,
   "metadata": {
    "collapsed": true
   },
   "outputs": [],
   "source": []
  }
 ],
 "metadata": {
  "kernelspec": {
   "display_name": "Python 2",
   "language": "python",
   "name": "python2"
  },
  "language_info": {
   "codemirror_mode": {
    "name": "ipython",
    "version": 2
   },
   "file_extension": ".py",
   "mimetype": "text/x-python",
   "name": "python",
   "nbconvert_exporter": "python",
   "pygments_lexer": "ipython2",
   "version": "2.7.6"
  }
 },
 "nbformat": 4,
 "nbformat_minor": 0
}
